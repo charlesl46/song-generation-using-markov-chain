{
 "cells": [
  {
   "cell_type": "code",
   "execution_count": 1,
   "metadata": {},
   "outputs": [
    {
     "data": {
      "application/vnd.jupyter.widget-view+json": {
       "model_id": "f7b1a9d9cc574c85af0ccbdc73f76326",
       "version_major": 2,
       "version_minor": 0
      },
      "text/plain": [
       "Output()"
      ]
     },
     "metadata": {},
     "output_type": "display_data"
    },
    {
     "data": {
      "text/html": [
       "<pre style=\"white-space:pre;overflow-x:auto;line-height:normal;font-family:Menlo,'DejaVu Sans Mono',consolas,'Courier New',monospace\"></pre>\n"
      ],
      "text/plain": []
     },
     "metadata": {},
     "output_type": "display_data"
    },
    {
     "data": {
      "text/html": [
       "<pre style=\"white-space:pre;overflow-x:auto;line-height:normal;font-family:Menlo,'DejaVu Sans Mono',consolas,'Courier New',monospace\"><span style=\"color: #7fbfbf; text-decoration-color: #7fbfbf\">[23:17:51] </span>Model loaded                                                                             <a href=\"file:///var/folders/z9/2p4dkqtj2m18rl9f9f5ylf2h0000gp/T/ipykernel_14624/1551933738.py\" target=\"_blank\"><span style=\"color: #7f7f7f; text-decoration-color: #7f7f7f\">1551933738.py</span></a><span style=\"color: #7f7f7f; text-decoration-color: #7f7f7f\">:</span><a href=\"file:///var/folders/z9/2p4dkqtj2m18rl9f9f5ylf2h0000gp/T/ipykernel_14624/1551933738.py#9\" target=\"_blank\"><span style=\"color: #7f7f7f; text-decoration-color: #7f7f7f\">9</span></a>\n",
       "</pre>\n"
      ],
      "text/plain": [
       "\u001b[2;36m[23:17:51]\u001b[0m\u001b[2;36m \u001b[0mModel loaded                                                                             \u001b]8;id=577466;file:///var/folders/z9/2p4dkqtj2m18rl9f9f5ylf2h0000gp/T/ipykernel_14624/1551933738.py\u001b\\\u001b[2m1551933738.py\u001b[0m\u001b]8;;\u001b\\\u001b[2m:\u001b[0m\u001b]8;id=317018;file:///var/folders/z9/2p4dkqtj2m18rl9f9f5ylf2h0000gp/T/ipykernel_14624/1551933738.py#9\u001b\\\u001b[2m9\u001b[0m\u001b]8;;\u001b\\\n"
      ]
     },
     "metadata": {},
     "output_type": "display_data"
    }
   ],
   "source": [
    "import markovify\n",
    "import json\n",
    "from rich.console import Console\n",
    "\n",
    "C = Console()\n",
    "\n",
    "with C.status(\"Loading the model\"):\n",
    "    reconstituted_model = markovify.Text.from_json(json.load(open(\"model.json\",\"r\")))\n",
    "C.log(\"Model loaded\")\n"
   ]
  },
  {
   "cell_type": "code",
   "execution_count": 7,
   "metadata": {},
   "outputs": [],
   "source": [
    "def make_sentence(start):\n",
    "    try:\n",
    "        with C.status(\"Infering\"):\n",
    "            sentence = reconstituted_model.make_sentence_with_start(start)\n",
    "        print(sentence)\n",
    "    except:\n",
    "        print(\"<!> Couldn't generate a correct sentence\")"
   ]
  },
  {
   "cell_type": "code",
   "execution_count": 19,
   "metadata": {},
   "outputs": [
    {
     "data": {
      "text/html": [
       "<pre style=\"white-space:pre;overflow-x:auto;line-height:normal;font-family:Menlo,'DejaVu Sans Mono',consolas,'Courier New',monospace\"></pre>\n"
      ],
      "text/plain": []
     },
     "metadata": {},
     "output_type": "display_data"
    },
    {
     "name": "stdout",
     "output_type": "stream",
     "text": [
      "You look like Ralph Cramden or a Donald Duck cartoon.\n"
     ]
    }
   ],
   "source": [
    "make_sentence(\"You look like\")"
   ]
  },
  {
   "cell_type": "code",
   "execution_count": null,
   "metadata": {},
   "outputs": [],
   "source": []
  }
 ],
 "metadata": {
  "kernelspec": {
   "display_name": "Python 3",
   "language": "python",
   "name": "python3"
  },
  "language_info": {
   "codemirror_mode": {
    "name": "ipython",
    "version": 3
   },
   "file_extension": ".py",
   "mimetype": "text/x-python",
   "name": "python",
   "nbconvert_exporter": "python",
   "pygments_lexer": "ipython3",
   "version": "3.11.6"
  }
 },
 "nbformat": 4,
 "nbformat_minor": 2
}
